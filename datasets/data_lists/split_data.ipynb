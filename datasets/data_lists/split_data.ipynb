{
 "cells": [
  {
   "cell_type": "code",
   "execution_count": 2,
   "id": "b8b04509-173a-4825-aff6-10ec87e8127a",
   "metadata": {},
   "outputs": [],
   "source": [
    "import os\n",
    "import numpy as np"
   ]
  },
  {
   "cell_type": "code",
   "execution_count": 3,
   "id": "e8b4e879-9669-4566-9816-ed119c1e9c66",
   "metadata": {},
   "outputs": [],
   "source": [
    "data = np.array(os.listdir('../../../topaz/data/input_1024_20_relion_contrast/'))\n",
    "data_empiars = np.array([d[:5] for d in data])\n",
    "data_len = len(data)\n",
    "train_len = int(data_len*0.6)\n",
    "validation_len = int(data_len*0.2)\n",
    "test_len = int(data_len*0.2)\n",
    "data_indexes = np.array(list(range(data_len)))\n",
    "np.random.seed(10)  \n",
    "np.random.shuffle(data_indexes)"
   ]
  },
  {
   "cell_type": "code",
   "execution_count": 4,
   "id": "b6a454a6-66bf-41e1-87f9-b903d1dbdedf",
   "metadata": {},
   "outputs": [],
   "source": [
    "train_empiars = ('10291','10077','10590','10816')\n",
    "validation_empiars = ('10028','10081','10096','10240','10406',\\\n",
    "                      '10289','10737','10059','11183','10017')"
   ]
  },
  {
   "cell_type": "code",
   "execution_count": 10,
   "id": "e8ba3871-411b-4d04-bd06-6b5352ae0f26",
   "metadata": {},
   "outputs": [
    {
     "name": "stdout",
     "output_type": "stream",
     "text": [
      "10291 180 60 60\n",
      "10077 180 60 60\n",
      "10590 177 59 59\n",
      "10816 180 60 60\n"
     ]
    }
   ],
   "source": [
    "for te in train_empiars:\n",
    "    te_indexes = np.where(data_empiars[data_indexes]==te)[0]\n",
    "    train_len = int(len(te_indexes)*0.6)\n",
    "    validation_len = int(len(te_indexes)*0.2)\n",
    "    test_len = int(len(te_indexes)*0.2)\n",
    "    print(te, train_len, validation_len, test_len)\n",
    "    te_train_set = data[data_indexes][te_indexes][:train_len]\n",
    "    te_validation_set = data[data_indexes][te_indexes][train_len:train_len+validation_len]\n",
    "    te_test_set = data[data_indexes][te_indexes][train_len+validation_len:]\n",
    "    np.save(f'{te}_train.npy',te_train_set)\n",
    "    np.save(f'{te}_validation.npy',te_validation_set)\n",
    "    np.save(f'{te}_test.npy',te_test_set)"
   ]
  },
  {
   "cell_type": "code",
   "execution_count": 11,
   "id": "6d443763-5ae6-45a2-a209-0112815622a5",
   "metadata": {},
   "outputs": [],
   "source": [
    "for ve in validation_empiars:\n",
    "    ve_indexes = np.where(data_empiars[data_indexes]==ve)[0]\n",
    "    test_len = 60\n",
    "    ve_test_set = data[data_indexes][ve_indexes][:test_len]\n",
    "    np.save(f'{ve}_test.npy',ve_test_set)"
   ]
  },
  {
   "cell_type": "code",
   "execution_count": 6,
   "id": "4b740e65-9b90-4e6c-ba79-cebb78c8ba69",
   "metadata": {},
   "outputs": [
    {
     "data": {
      "text/plain": [
       "array(['10017_79.png', '10017_69.png', '10017_6.png', '10017_18.png',\n",
       "       '10017_16.png', '10017_44.png', '10017_48.png', '10017_59.png',\n",
       "       '10017_49.png', '10017_71.png', '10017_72.png', '10017_55.png',\n",
       "       '10017_41.png', '10017_78.png', '10017_63.png', '10017_25.png',\n",
       "       '10017_51.png', '10017_46.png', '10017_65.png', '10017_17.png',\n",
       "       '10017_29.png', '10017_22.png', '10017_70.png', '10017_37.png',\n",
       "       '10017_81.png', '10017_13.png', '10017_21.png', '10017_15.png',\n",
       "       '10017_32.png', '10017_35.png', '10017_60.png', '10017_54.png',\n",
       "       '10017_80.png', '10017_27.png', '10017_31.png', '10017_82.png',\n",
       "       '10017_45.png', '10017_62.png', '10017_50.png', '10017_66.png',\n",
       "       '10017_76.png', '10017_61.png', '10017_5.png', '10017_3.png',\n",
       "       '10017_74.png', '10017_26.png', '10017_28.png', '10017_11.png',\n",
       "       '10017_4.png', '10017_68.png', '10017_1.png', '10017_9.png',\n",
       "       '10017_34.png', '10017_58.png', '10017_14.png', '10017_43.png',\n",
       "       '10017_12.png', '10017_64.png', '10017_7.png', '10017_10.png'],\n",
       "      dtype='<U13')"
      ]
     },
     "execution_count": 6,
     "metadata": {},
     "output_type": "execute_result"
    }
   ],
   "source": [
    "ve_test_set"
   ]
  },
  {
   "cell_type": "code",
   "execution_count": 4,
   "id": "567e0836-e3cf-4521-ac89-5df06c86a800",
   "metadata": {},
   "outputs": [],
   "source": [
    "train_10291 = np.load('10291_train.npy')\n",
    "for i in (3,):\n",
    "    np.save(f'10291_train_{i}.npy', train_10291[:i])"
   ]
  },
  {
   "cell_type": "code",
   "execution_count": 13,
   "id": "5557aaf0-0dfe-4a96-b30c-72f82d1c9121",
   "metadata": {},
   "outputs": [
    {
     "data": {
      "text/plain": [
       "array([2334, 5410, 1679, ..., 1344, 4623, 1289])"
      ]
     },
     "execution_count": 13,
     "metadata": {},
     "output_type": "execute_result"
    }
   ],
   "source": [
    "data_indexes"
   ]
  },
  {
   "cell_type": "code",
   "execution_count": 9,
   "id": "bf9e2aef-a4d0-4095-8706-c117aabad93b",
   "metadata": {},
   "outputs": [],
   "source": [
    "data_empiars = [d[:5] for d in data]"
   ]
  },
  {
   "cell_type": "code",
   "execution_count": 4,
   "id": "d76150cf-0d26-4ee0-a674-835eb8f02fbc",
   "metadata": {},
   "outputs": [
    {
     "data": {
      "text/plain": [
       "(None, None)"
      ]
     },
     "execution_count": 4,
     "metadata": {},
     "output_type": "execute_result"
    }
   ],
   "source": [
    "np.save('train_list_256_8.npy', data[data_indexes][:train_len]), np.save('validation_list_256_8.npy', data[data_indexes][train_len:])"
   ]
  },
  {
   "cell_type": "code",
   "execution_count": 6,
   "id": "0d79632e-1d31-489c-a956-2991762f2b7a",
   "metadata": {},
   "outputs": [
    {
     "data": {
      "text/plain": [
       "(None, None)"
      ]
     },
     "execution_count": 6,
     "metadata": {},
     "output_type": "execute_result"
    }
   ],
   "source": [
    "np.save('train_list_test.npy', data[data_indexes][:1]), np.save('validation_list_test.npy', data[data_indexes][:1])"
   ]
  },
  {
   "cell_type": "code",
   "execution_count": 2,
   "id": "565974e8-0740-40fc-8228-5732b3e4ae90",
   "metadata": {},
   "outputs": [],
   "source": [
    "dl = ['10028.tar.gz','10081.tar.gz','10590.tar.gz','10096.tar.gz',\\\n",
    "      '10760.tar.gz','10240.tar.gz','10406.tar.gz','10669.tar.gz',\\\n",
    "      '10289.tar.gz','10532.tar.gz','10077.tar.gz','10737.tar.gz',\\\n",
    "      '10017.tar.gz','10291.tar.gz','10061.tar.gz','10059.tar.gz',\\\n",
    "      '11183.tar.gz','10184.tar.gz','10816.tar.gz','10075.tar.gz',\\\n",
    "      '10444.tar.gz','11056.tar.gz','10671.tar.gz','11057.tar.gz','10576.tar.gz'] ## No GT for these Dataset"
   ]
  },
  {
   "cell_type": "code",
   "execution_count": 3,
   "id": "79d28106-ef4c-4a96-81f7-9046b162b9e4",
   "metadata": {},
   "outputs": [],
   "source": [
    "#Panagiotis Set or KoroSet\n",
    "data = np.array(os.listdir('/storage/andreas.zamanos/cryoppp_lite/seg_data/input_512_12_relion_contrast/'))\n",
    "data_len = len(data)\n",
    "data_indexes = np.array(list(range(data_len)))\n",
    "np.random.seed(10)  \n",
    "np.random.shuffle(data_indexes)\n",
    "#Dataset names array\n",
    "data_set_name = []\n",
    "for d in data[data_indexes]:\n",
    "    data_set_name.append(d.split('_')[0])\n",
    "data_set_name = np.array(data_set_name)"
   ]
  },
  {
   "cell_type": "code",
   "execution_count": 4,
   "id": "0cbe35b5-4139-4c61-b703-611cf6e16e0d",
   "metadata": {},
   "outputs": [],
   "source": [
    "# dataset_indexes = np.where(data_set_name=='10093')\n",
    "# data_len = len(dataset_indexes[0])\n",
    "# train_len = int(data_len*0.8)\n",
    "# np.save('train_list_10093.npy', data[data_indexes][dataset_indexes][:train_len]),\\\n",
    "# np.save('validation_list_10093.npy', data[data_indexes][dataset_indexes][train_len:])"
   ]
  },
  {
   "cell_type": "code",
   "execution_count": 7,
   "id": "ac3a0748-e7fa-4482-96f1-56b4e2c9a31b",
   "metadata": {},
   "outputs": [
    {
     "data": {
      "text/plain": [
       "(3526,)"
      ]
     },
     "execution_count": 7,
     "metadata": {},
     "output_type": "execute_result"
    }
   ],
   "source": [
    "data_set_name.shape"
   ]
  },
  {
   "cell_type": "code",
   "execution_count": 8,
   "id": "3c6441f2-9866-4e75-9475-78e64366a53b",
   "metadata": {},
   "outputs": [],
   "source": [
    "koro_training_set, koro_validation_set = [], []\n",
    "for d in dl[:8]:\n",
    "    d_name = d.split('.')[0]\n",
    "    dataset_indexes = np.where(data_set_name==d_name)\n",
    "    counter = 0\n",
    "    for i in range(120):\n",
    "        if counter < 100:\n",
    "            koro_training_set.append(data[data_indexes][dataset_indexes][counter])\n",
    "        else:\n",
    "            koro_validation_set.append(data[data_indexes][dataset_indexes][counter])\n",
    "        counter += 1\n",
    "koro_training_set, koro_validation_set = np.array(koro_training_set), np.array(koro_validation_set)"
   ]
  },
  {
   "cell_type": "code",
   "execution_count": 9,
   "id": "abb65d27-64be-4b42-a34d-c727c54e9d26",
   "metadata": {},
   "outputs": [],
   "source": [
    "koro_test_set = []\n",
    "for d in dl[8:12]:\n",
    "    d_name = d.split('.')[0]\n",
    "    dataset_indexes = np.where(data_set_name==d_name)\n",
    "    counter = 0\n",
    "    for i in range(20):\n",
    "        koro_test_set.append(data[data_indexes][dataset_indexes][counter])\n",
    "koro_test_set = np.array(koro_test_set)"
   ]
  },
  {
   "cell_type": "code",
   "execution_count": 10,
   "id": "bbdb21ce-5bd6-4e07-9b21-97ef7f10992c",
   "metadata": {},
   "outputs": [
    {
     "name": "stdout",
     "output_type": "stream",
     "text": [
      "(800,) (160,) 51200 10240\n"
     ]
    }
   ],
   "source": [
    "print(koro_training_set.shape, koro_validation_set.shape, koro_training_set.shape[0]*64, koro_validation_set.shape[0]*64)"
   ]
  },
  {
   "cell_type": "code",
   "execution_count": 11,
   "id": "7bb13fc8-e624-4529-98e9-f3ee6f4d3856",
   "metadata": {},
   "outputs": [
    {
     "name": "stdout",
     "output_type": "stream",
     "text": [
      "(80,) 5120\n"
     ]
    }
   ],
   "source": [
    "print(koro_test_set.shape, koro_test_set.shape[0]*64)"
   ]
  },
  {
   "cell_type": "code",
   "execution_count": 12,
   "id": "bb4eb75e-06c7-4e35-946f-88bb1c7c0284",
   "metadata": {},
   "outputs": [
    {
     "data": {
      "text/plain": [
       "(None, None, None)"
      ]
     },
     "execution_count": 12,
     "metadata": {},
     "output_type": "execute_result"
    }
   ],
   "source": [
    "np.save('koro_train_list_512_8.npy', koro_training_set),\\\n",
    "np.save('koro_validation_list_512_8.npy', koro_validation_set),\\\n",
    "np.save('koro_test_list_512_4.npy', koro_test_set)"
   ]
  },
  {
   "cell_type": "code",
   "execution_count": 26,
   "id": "722e05a4-ae7a-4d5a-a5fd-16db99bc986a",
   "metadata": {},
   "outputs": [
    {
     "name": "stdout",
     "output_type": "stream",
     "text": [
      "4638\r"
     ]
    }
   ],
   "source": [
    "import os\n",
    "from PIL import Image\n",
    "\n",
    "particle_diameter = {'10028': 28,'10081': 22,'10345': 20,'10240': 22,'10093': 24,'10590': 22,\\\n",
    "                     '10291': 18,'10387': 28,'10760': 14,'10184': 16,'10289': 22,'10526': 32,\\\n",
    "                     '10075': 30,'10077': 28,'10532': 22,'10406': 28}\n",
    "\n",
    "path_to_save_gt = '/storage/andreas.zamanos/cryoppp_lite/seg_data/target_512_16_window_particle_diameter/'\n",
    "if not os.path.exists(path_to_save_gt):\n",
    "    os.mkdir(path_to_save_gt)\n",
    "path_of_gt = '/storage/andreas.zamanos/cryoppp_lite/seg_data/target_512_16_1px/'\n",
    "ref_paths = os.listdir(path_of_gt)\n",
    "counter = 0\n",
    "for r in ref_paths:\n",
    "    k = particle_diameter[r[:5]]\n",
    "    k = k//2\n",
    "    if k%2:\n",
    "        k += 1\n",
    "    #k2 = k//2\n",
    "    k2 = k\n",
    "    gt_arr = np.array(Image.open(f'{path_of_gt}{r}'))/255\n",
    "    pred_out = np.zeros(gt_arr.shape)\n",
    "    for c in np.array(np.where(gt_arr>0)).T:\n",
    "        x_i, y_i = c\n",
    "        pred_out[x_i-k2:x_i+k2,y_i-k2:y_i+k2] = 1\n",
    "    pred_out *= 255\n",
    "    pred_out_im = Image.fromarray(pred_out).convert(\"L\")\n",
    "    pred_out_im.save(f'{path_to_save_gt}{r}')\n",
    "    counter += 1\n",
    "    print(counter,end='\\r')"
   ]
  }
 ],
 "metadata": {
  "kernelspec": {
   "display_name": "Python 3 (ipykernel)",
   "language": "python",
   "name": "python3"
  },
  "language_info": {
   "codemirror_mode": {
    "name": "ipython",
    "version": 3
   },
   "file_extension": ".py",
   "mimetype": "text/x-python",
   "name": "python",
   "nbconvert_exporter": "python",
   "pygments_lexer": "ipython3",
   "version": "3.10.6"
  }
 },
 "nbformat": 4,
 "nbformat_minor": 5
}
